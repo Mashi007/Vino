{
  "nbformat": 4,
  "nbformat_minor": 0,
  "metadata": {
    "colab": {
      "provenance": [],
      "toc_visible": true
    },
    "kernelspec": {
      "name": "python3",
      "display_name": "Python 3"
    },
    "language_info": {
      "name": "python"
    }
  },
  "cells": [
    {
      "cell_type": "markdown",
      "source": [
        "---\n",
        "# **ACTIVIDAD 1: Regresión logística**\n",
        "\n",
        "---"
      ],
      "metadata": {
        "id": "oe-InT4PuqDO"
      }
    },
    {
      "cell_type": "markdown",
      "source": [
        "Realizado por: Daniel Casañas\n",
        "\n",
        "Fecha: 31 de marzo de 2023"
      ],
      "metadata": {
        "id": "fEj69V3Iu5TD"
      }
    },
    {
      "cell_type": "markdown",
      "source": [
        "---\n",
        "# **1. Instalación**\n",
        "\n",
        "---"
      ],
      "metadata": {
        "id": "vghH400hvLjr"
      }
    },
    {
      "cell_type": "markdown",
      "source": [
        "### 1.1  Librerías"
      ],
      "metadata": {
        "id": "-4mrK1BExd-g"
      }
    },
    {
      "cell_type": "code",
      "source": [
        "!pip install mplcursors\n",
        "!pip install pandas plotly\n",
        "!pip install selenium\n",
        "!pip install python-docx\n",
        "!pip install python-Levenshtein\n",
        "!pip install plotly\n",
        "!pip install fuzzywuzzy"
      ],
      "metadata": {
        "id": "jJ7njM6Yxe-H"
      },
      "execution_count": null,
      "outputs": []
    },
    {
      "cell_type": "markdown",
      "source": [
        "### 1.2  Módulos"
      ],
      "metadata": {
        "id": "Hq4yBLq9xjeR"
      }
    },
    {
      "cell_type": "code",
      "source": [
        "# Importar bibliotecas\n",
        "\n",
        "import matplotlib.pyplot as plt\n",
        "import pandas as pd\n",
        "import numpy as np\n",
        "import plotly.express as px\n",
        "import plotly.graph_objects as go\n",
        "import plotly.offline as pyo\n",
        "import seaborn as sns\n",
        "import statsmodels.formula.api as smf\n",
        "import math\n",
        "import pandas as pd\n",
        "\n",
        "\n",
        "# Importar Sub - Bibliotecas\n",
        "\n",
        "from tabulate import tabulate\n",
        "from scipy.stats import rankdata\n",
        "from IPython.display import display,HTML\n",
        "from sklearn.preprocessing import OneHotEncoder\n",
        "from sklearn.model_selection import train_test_split\n",
        "from sklearn.pipeline import Pipeline\n",
        "from sklearn.impute import SimpleImputer\n",
        "from sklearn.preprocessing import StandardScaler\n",
        "from sklearn.compose import ColumnTransformer\n",
        "from sklearn.preprocessing import StandardScaler, OneHotEncoder\n",
        "from sklearn.linear_model import LinearRegression\n",
        "from sklearn.metrics import mean_absolute_error\n",
        "from sklearn.metrics import mean_squared_error\n",
        "from fuzzywuzzy import fuzz\n",
        "from tabulate import tabulate\n",
        "from sklearn.pipeline import Pipeline\n",
        "from sklearn.preprocessing import StandardScaler\n",
        "from sklearn.compose import ColumnTransformer\n",
        "from sklearn.model_selection import train_test_split\n"
      ],
      "metadata": {
        "id": "eOEXsr5zu15K"
      },
      "execution_count": 18,
      "outputs": []
    },
    {
      "cell_type": "markdown",
      "source": [
        "---\n",
        "# **2. Marco de datos**\n",
        "\n",
        "---"
      ],
      "metadata": {
        "id": "3nXgNBReu9fC"
      }
    },
    {
      "cell_type": "code",
      "source": [
        "# Importar el archivo CSV\n",
        "df_V2 = pd.read_csv(\"/content/WC.csv\")\n",
        "\n",
        "# Imprime las primeras filas del DataFrame\n",
        "df_V2.head()"
      ],
      "metadata": {
        "colab": {
          "base_uri": "https://localhost:8080/",
          "height": 206
        },
        "id": "Q1DAev19u-St",
        "outputId": "cada98f0-f88f-41ff-8002-a22df6e52a68"
      },
      "execution_count": 14,
      "outputs": [
        {
          "output_type": "execute_result",
          "data": {
            "text/plain": [
              "   Class label  Alcohol  Malic Acid  Ash  Alcalinity of ash  Magnesium  \\\n",
              "0            1    14.23        1.71 2.43              15.60        127   \n",
              "1            1    13.20        1.78 2.14              11.20        100   \n",
              "2            1    13.16        2.36 2.67              18.60        101   \n",
              "3            1    14.37        1.95 2.50              16.80        113   \n",
              "4            1    13.24        2.59 2.87              21.00        118   \n",
              "\n",
              "   Total phenols  Flavanoids  Nonflavonid phenols  Proanthocyanins  \\\n",
              "0           2.80        3.06                 0.28             2.29   \n",
              "1           2.65        2.76                 0.26             1.28   \n",
              "2           2.80        3.24                 0.30             2.81   \n",
              "3           3.85        3.49                 0.24             2.18   \n",
              "4           2.80        2.69                 0.39             1.82   \n",
              "\n",
              "   Color intensity  Hue  OD280/OD315 of diluted wines  Proline  \n",
              "0             5.64 1.04                          3.92     1065  \n",
              "1             4.38 1.05                          3.40     1050  \n",
              "2             5.68 1.03                          3.17     1185  \n",
              "3             7.80 0.86                          3.45     1480  \n",
              "4             4.32 1.04                          2.93      735  "
            ],
            "text/html": [
              "\n",
              "  <div id=\"df-ba436c9d-0a64-4819-929d-d897e215045c\">\n",
              "    <div class=\"colab-df-container\">\n",
              "      <div>\n",
              "<style scoped>\n",
              "    .dataframe tbody tr th:only-of-type {\n",
              "        vertical-align: middle;\n",
              "    }\n",
              "\n",
              "    .dataframe tbody tr th {\n",
              "        vertical-align: top;\n",
              "    }\n",
              "\n",
              "    .dataframe thead th {\n",
              "        text-align: right;\n",
              "    }\n",
              "</style>\n",
              "<table border=\"1\" class=\"dataframe\">\n",
              "  <thead>\n",
              "    <tr style=\"text-align: right;\">\n",
              "      <th></th>\n",
              "      <th>Class label</th>\n",
              "      <th>Alcohol</th>\n",
              "      <th>Malic Acid</th>\n",
              "      <th>Ash</th>\n",
              "      <th>Alcalinity of ash</th>\n",
              "      <th>Magnesium</th>\n",
              "      <th>Total phenols</th>\n",
              "      <th>Flavanoids</th>\n",
              "      <th>Nonflavonid phenols</th>\n",
              "      <th>Proanthocyanins</th>\n",
              "      <th>Color intensity</th>\n",
              "      <th>Hue</th>\n",
              "      <th>OD280/OD315 of diluted wines</th>\n",
              "      <th>Proline</th>\n",
              "    </tr>\n",
              "  </thead>\n",
              "  <tbody>\n",
              "    <tr>\n",
              "      <th>0</th>\n",
              "      <td>1</td>\n",
              "      <td>14.23</td>\n",
              "      <td>1.71</td>\n",
              "      <td>2.43</td>\n",
              "      <td>15.60</td>\n",
              "      <td>127</td>\n",
              "      <td>2.80</td>\n",
              "      <td>3.06</td>\n",
              "      <td>0.28</td>\n",
              "      <td>2.29</td>\n",
              "      <td>5.64</td>\n",
              "      <td>1.04</td>\n",
              "      <td>3.92</td>\n",
              "      <td>1065</td>\n",
              "    </tr>\n",
              "    <tr>\n",
              "      <th>1</th>\n",
              "      <td>1</td>\n",
              "      <td>13.20</td>\n",
              "      <td>1.78</td>\n",
              "      <td>2.14</td>\n",
              "      <td>11.20</td>\n",
              "      <td>100</td>\n",
              "      <td>2.65</td>\n",
              "      <td>2.76</td>\n",
              "      <td>0.26</td>\n",
              "      <td>1.28</td>\n",
              "      <td>4.38</td>\n",
              "      <td>1.05</td>\n",
              "      <td>3.40</td>\n",
              "      <td>1050</td>\n",
              "    </tr>\n",
              "    <tr>\n",
              "      <th>2</th>\n",
              "      <td>1</td>\n",
              "      <td>13.16</td>\n",
              "      <td>2.36</td>\n",
              "      <td>2.67</td>\n",
              "      <td>18.60</td>\n",
              "      <td>101</td>\n",
              "      <td>2.80</td>\n",
              "      <td>3.24</td>\n",
              "      <td>0.30</td>\n",
              "      <td>2.81</td>\n",
              "      <td>5.68</td>\n",
              "      <td>1.03</td>\n",
              "      <td>3.17</td>\n",
              "      <td>1185</td>\n",
              "    </tr>\n",
              "    <tr>\n",
              "      <th>3</th>\n",
              "      <td>1</td>\n",
              "      <td>14.37</td>\n",
              "      <td>1.95</td>\n",
              "      <td>2.50</td>\n",
              "      <td>16.80</td>\n",
              "      <td>113</td>\n",
              "      <td>3.85</td>\n",
              "      <td>3.49</td>\n",
              "      <td>0.24</td>\n",
              "      <td>2.18</td>\n",
              "      <td>7.80</td>\n",
              "      <td>0.86</td>\n",
              "      <td>3.45</td>\n",
              "      <td>1480</td>\n",
              "    </tr>\n",
              "    <tr>\n",
              "      <th>4</th>\n",
              "      <td>1</td>\n",
              "      <td>13.24</td>\n",
              "      <td>2.59</td>\n",
              "      <td>2.87</td>\n",
              "      <td>21.00</td>\n",
              "      <td>118</td>\n",
              "      <td>2.80</td>\n",
              "      <td>2.69</td>\n",
              "      <td>0.39</td>\n",
              "      <td>1.82</td>\n",
              "      <td>4.32</td>\n",
              "      <td>1.04</td>\n",
              "      <td>2.93</td>\n",
              "      <td>735</td>\n",
              "    </tr>\n",
              "  </tbody>\n",
              "</table>\n",
              "</div>\n",
              "      <button class=\"colab-df-convert\" onclick=\"convertToInteractive('df-ba436c9d-0a64-4819-929d-d897e215045c')\"\n",
              "              title=\"Convert this dataframe to an interactive table.\"\n",
              "              style=\"display:none;\">\n",
              "        \n",
              "  <svg xmlns=\"http://www.w3.org/2000/svg\" height=\"24px\"viewBox=\"0 0 24 24\"\n",
              "       width=\"24px\">\n",
              "    <path d=\"M0 0h24v24H0V0z\" fill=\"none\"/>\n",
              "    <path d=\"M18.56 5.44l.94 2.06.94-2.06 2.06-.94-2.06-.94-.94-2.06-.94 2.06-2.06.94zm-11 1L8.5 8.5l.94-2.06 2.06-.94-2.06-.94L8.5 2.5l-.94 2.06-2.06.94zm10 10l.94 2.06.94-2.06 2.06-.94-2.06-.94-.94-2.06-.94 2.06-2.06.94z\"/><path d=\"M17.41 7.96l-1.37-1.37c-.4-.4-.92-.59-1.43-.59-.52 0-1.04.2-1.43.59L10.3 9.45l-7.72 7.72c-.78.78-.78 2.05 0 2.83L4 21.41c.39.39.9.59 1.41.59.51 0 1.02-.2 1.41-.59l7.78-7.78 2.81-2.81c.8-.78.8-2.07 0-2.86zM5.41 20L4 18.59l7.72-7.72 1.47 1.35L5.41 20z\"/>\n",
              "  </svg>\n",
              "      </button>\n",
              "      \n",
              "  <style>\n",
              "    .colab-df-container {\n",
              "      display:flex;\n",
              "      flex-wrap:wrap;\n",
              "      gap: 12px;\n",
              "    }\n",
              "\n",
              "    .colab-df-convert {\n",
              "      background-color: #E8F0FE;\n",
              "      border: none;\n",
              "      border-radius: 50%;\n",
              "      cursor: pointer;\n",
              "      display: none;\n",
              "      fill: #1967D2;\n",
              "      height: 32px;\n",
              "      padding: 0 0 0 0;\n",
              "      width: 32px;\n",
              "    }\n",
              "\n",
              "    .colab-df-convert:hover {\n",
              "      background-color: #E2EBFA;\n",
              "      box-shadow: 0px 1px 2px rgba(60, 64, 67, 0.3), 0px 1px 3px 1px rgba(60, 64, 67, 0.15);\n",
              "      fill: #174EA6;\n",
              "    }\n",
              "\n",
              "    [theme=dark] .colab-df-convert {\n",
              "      background-color: #3B4455;\n",
              "      fill: #D2E3FC;\n",
              "    }\n",
              "\n",
              "    [theme=dark] .colab-df-convert:hover {\n",
              "      background-color: #434B5C;\n",
              "      box-shadow: 0px 1px 3px 1px rgba(0, 0, 0, 0.15);\n",
              "      filter: drop-shadow(0px 1px 2px rgba(0, 0, 0, 0.3));\n",
              "      fill: #FFFFFF;\n",
              "    }\n",
              "  </style>\n",
              "\n",
              "      <script>\n",
              "        const buttonEl =\n",
              "          document.querySelector('#df-ba436c9d-0a64-4819-929d-d897e215045c button.colab-df-convert');\n",
              "        buttonEl.style.display =\n",
              "          google.colab.kernel.accessAllowed ? 'block' : 'none';\n",
              "\n",
              "        async function convertToInteractive(key) {\n",
              "          const element = document.querySelector('#df-ba436c9d-0a64-4819-929d-d897e215045c');\n",
              "          const dataTable =\n",
              "            await google.colab.kernel.invokeFunction('convertToInteractive',\n",
              "                                                     [key], {});\n",
              "          if (!dataTable) return;\n",
              "\n",
              "          const docLinkHtml = 'Like what you see? Visit the ' +\n",
              "            '<a target=\"_blank\" href=https://colab.research.google.com/notebooks/data_table.ipynb>data table notebook</a>'\n",
              "            + ' to learn more about interactive tables.';\n",
              "          element.innerHTML = '';\n",
              "          dataTable['output_type'] = 'display_data';\n",
              "          await google.colab.output.renderOutput(dataTable, element);\n",
              "          const docLink = document.createElement('div');\n",
              "          docLink.innerHTML = docLinkHtml;\n",
              "          element.appendChild(docLink);\n",
              "        }\n",
              "      </script>\n",
              "    </div>\n",
              "  </div>\n",
              "  "
            ]
          },
          "metadata": {},
          "execution_count": 14
        }
      ]
    },
    {
      "cell_type": "markdown",
      "source": [
        "### 2.1  Punto de Control"
      ],
      "metadata": {
        "id": "3WphekqwvmT8"
      }
    },
    {
      "cell_type": "code",
      "source": [
        "# Generar una copia del DataFrame con otro nombre\n",
        "df_V3_copy = df_V2.copy()\n",
        "# Guardar el DataFrame modificado en un archivo CSV con un nuevo nombre y extensión\n",
        "df_V3_copy.to_csv(\"/content/WC_V3.csv\", index=False)\n",
        "# Importar el archivo CSV\n",
        "df_V3 = pd.read_csv(\"/content/WC_V3.csv\")"
      ],
      "metadata": {
        "id": "CgP9fe1NvXX3"
      },
      "execution_count": 15,
      "outputs": []
    },
    {
      "cell_type": "markdown",
      "source": [
        "---\n",
        "# **3. Regresión Logística**\n",
        "\n",
        "---"
      ],
      "metadata": {
        "id": "457LIeJSvo0w"
      }
    },
    {
      "cell_type": "code",
      "source": [
        "# Agregar los nombres de las columnas\n",
        "df_V3.columns = ['Class label', 'Alcohol', 'Malic Acid', 'Ash', 'Alcalinity of ash', 'Magnesium', 'Total phenols', 'Flavanoids', 'Nonflavonoid phenols', 'Proanthocyanins', 'Color intensity', 'Hue', 'OD280/OD315 of diluted wines', 'Proline']\n",
        "\n",
        "# Convertir los valores de las columnas a numéricos\n",
        "columnas_numericas = ['Alcohol', 'Malic Acid', 'Ash', 'Alcalinity of ash', 'Magnesium', 'Total phenols', 'Flavanoids', 'Nonflavonoid phenols', 'Proanthocyanins', 'Color intensity', 'Hue', 'OD280/OD315 of diluted wines', 'Proline']\n",
        "df_V3[columnas_numericas] = df_V3[columnas_numericas].apply(pd.to_numeric)\n",
        "\n",
        "# Agregar dos decimales a los valores numéricos\n",
        "pd.options.display.float_format = '{:.2f}'.format      \n",
        "\n",
        "# Separar los datos en una matriz de características (X) y un vector objetivo (y)\n",
        "X = df_V3.drop(['Class label'], axis=1)  # Se eliminan las columnas que no son el vector objetivo\n",
        "y = df_V3['Class label']\n",
        "\n",
        "# Imprimir la matriz de características (X) en formato de tabla\n",
        "print(\"\\n\\033[43m\\033[30m\\033[1mMatriz de características (X):\\033[0m\")\n",
        "print(X.head().to_string(index=False, header=True))\n",
        "\n",
        "# Imprimir el vector objetivo (y) en formato de tabla\n",
        "print(\"\\n\\033[43m\\033[30m\\033[1mVector objetivo (y):\\033[0m\")\n",
        "print(y.head().to_string(index=False, header=True))"
      ],
      "metadata": {
        "colab": {
          "base_uri": "https://localhost:8080/"
        },
        "id": "i00caWxzwMFW",
        "outputId": "e6ef24b0-6030-4b1e-8767-488db4827b41"
      },
      "execution_count": 16,
      "outputs": [
        {
          "output_type": "stream",
          "name": "stdout",
          "text": [
            "\n",
            "\u001b[43m\u001b[30m\u001b[1mMatriz de características (X):\u001b[0m\n",
            " Alcohol  Malic Acid  Ash  Alcalinity of ash  Magnesium  Total phenols  Flavanoids  Nonflavonoid phenols  Proanthocyanins  Color intensity  Hue  OD280/OD315 of diluted wines  Proline\n",
            "   14.23        1.71 2.43              15.60        127           2.80        3.06                  0.28             2.29             5.64 1.04                          3.92     1065\n",
            "   13.20        1.78 2.14              11.20        100           2.65        2.76                  0.26             1.28             4.38 1.05                          3.40     1050\n",
            "   13.16        2.36 2.67              18.60        101           2.80        3.24                  0.30             2.81             5.68 1.03                          3.17     1185\n",
            "   14.37        1.95 2.50              16.80        113           3.85        3.49                  0.24             2.18             7.80 0.86                          3.45     1480\n",
            "   13.24        2.59 2.87              21.00        118           2.80        2.69                  0.39             1.82             4.32 1.04                          2.93      735\n",
            "\n",
            "\u001b[43m\u001b[30m\u001b[1mVector objetivo (y):\u001b[0m\n",
            "1\n",
            "1\n",
            "1\n",
            "1\n",
            "1\n"
          ]
        }
      ]
    },
    {
      "cell_type": "code",
      "source": [
        "# Definir X_train y X_test\n",
        "X = df_V3[['Alcohol', 'Malic Acid', 'Ash', 'Alcalinity of ash', 'Magnesium', 'Total phenols', 'Flavanoids', 'Nonflavonoid phenols', 'Proanthocyanins', 'Color intensity', 'Hue', 'OD280/OD315 of diluted wines', 'Proline']]\n",
        "y = df_V3['Class label']\n",
        "X_train, X_test, y_train, y_test = train_test_split(X, y, test_size=0.2, random_state=0)\n",
        "\n",
        "# Definir las transformaciones\n",
        "num_transformer = Pipeline(steps=[('scaler', StandardScaler())])\n",
        "\n",
        "# Definir las columnas que serán transformadas\n",
        "num_features = ['Alcohol', 'Malic Acid', 'Ash', 'Alcalinity of ash', 'Magnesium', 'Total phenols', 'Flavanoids', 'Nonflavonoid phenols', 'Proanthocyanins', 'Color intensity', 'Hue', 'OD280/OD315 of diluted wines', 'Proline']\n",
        "\n",
        "# Definir el preprocesamiento\n",
        "preprocessor = ColumnTransformer(transformers=[('num', num_transformer, num_features)])\n",
        "\n",
        "# Ajustar el preprocesamiento en el conjunto de entrenamiento\n",
        "preprocessor.fit(X_train)\n",
        "\n",
        "# Transformar los conjuntos de entrenamiento y prueba\n",
        "X_train_transformed = preprocessor.transform(X_train)\n",
        "X_test_transformed = preprocessor.transform(X_test)\n",
        "\n",
        "# Convertir a DataFrames de pandas\n",
        "X_train_transformed = pd.DataFrame(X_train_transformed, columns=num_features)\n",
        "X_test_transformed = pd.DataFrame(X_test_transformed, columns=num_features)\n",
        "\n",
        "# Mostrar los DataFrames resultantes\n",
        "print(\"\\033[43m\\033[30m\\033[1mRespuesta:\\033[0m\")\n",
        "print(\"Conjunto de entrenamiento transformado (forma):\", X_train_transformed.shape)\n",
        "print(X_train_transformed.head())\n",
        "print(\"Conjunto de prueba transformado (forma):\", X_test_transformed.shape)\n",
        "print(X_test_transformed.head())"
      ],
      "metadata": {
        "colab": {
          "base_uri": "https://localhost:8080/"
        },
        "id": "JT3io24NwiBA",
        "outputId": "26fc5e1a-ee69-4a20-e969-a496c3751b71"
      },
      "execution_count": 19,
      "outputs": [
        {
          "output_type": "stream",
          "name": "stdout",
          "text": [
            "\u001b[43m\u001b[30m\u001b[1mRespuesta:\u001b[0m\n",
            "Conjunto de entrenamiento transformado (forma): (142, 13)\n",
            "   Alcohol  Malic Acid   Ash  Alcalinity of ash  Magnesium  Total phenols  \\\n",
            "0     0.88        0.80  0.64               0.13       0.49          -0.70   \n",
            "1    -0.37       -0.76 -0.40               0.33      -1.41          -1.44   \n",
            "2    -1.70       -0.34 -0.32              -0.45      -0.15           1.25   \n",
            "3     0.52        1.38  0.42               1.00       0.14          -0.75   \n",
            "4     0.64       -0.51  0.90               0.13      -0.29           0.45   \n",
            "\n",
            "   Flavanoids  Nonflavonoid phenols  Proanthocyanins  Color intensity   Hue  \\\n",
            "0       -1.43                  1.07            -1.37             0.35  0.03   \n",
            "1       -0.50                  1.70             0.02            -0.84  0.03   \n",
            "2        0.32                 -1.52            -0.43            -0.76  0.90   \n",
            "3       -1.23                  0.52            -0.33             0.95 -1.11   \n",
            "4        0.68                 -0.66             0.09            -0.64  0.73   \n",
            "\n",
            "   OD280/OD315 of diluted wines  Proline  \n",
            "0                         -1.06    -0.21  \n",
            "1                         -0.73    -0.82  \n",
            "2                          0.52    -1.31  \n",
            "3                         -1.43     0.03  \n",
            "4                          1.71     0.34  \n",
            "Conjunto de prueba transformado (forma): (36, 13)\n",
            "   Alcohol  Malic Acid   Ash  Alcalinity of ash  Magnesium  Total phenols  \\\n",
            "0     0.94       -0.63 -0.44              -0.92       1.26           0.56   \n",
            "1    -0.24        0.27  0.42               0.71       0.84          -1.28   \n",
            "2    -0.76       -1.12 -0.77              -0.16      -0.92           2.04   \n",
            "3     0.72       -0.58  0.35               0.28       1.12           1.15   \n",
            "4     0.08        3.08 -0.88               0.57      -0.99           0.59   \n",
            "\n",
            "   Flavanoids  Nonflavonoid phenols  Proanthocyanins  Color intensity   Hue  \\\n",
            "0        0.98                 -1.21             0.02             0.34 -0.15   \n",
            "1       -0.61                 -0.97            -0.59             2.43 -2.07   \n",
            "2        1.18                 -1.36             0.45            -0.25  1.16   \n",
            "3        0.85                 -1.28             1.43             0.51  0.12   \n",
            "4        0.72                 -0.50             0.69            -1.03 -0.97   \n",
            "\n",
            "   OD280/OD315 of diluted wines  Proline  \n",
            "0                          0.85     1.05  \n",
            "1                         -1.55    -0.87  \n",
            "2                          0.39    -1.06  \n",
            "3                          0.62     1.25  \n",
            "4                          0.71    -1.20  \n"
          ]
        }
      ]
    },
    {
      "cell_type": "code",
      "source": [
        "from sklearn.linear_model import LogisticRegression\n",
        "from sklearn.model_selection import train_test_split\n",
        "from sklearn.metrics import accuracy_score\n",
        "\n",
        "# Dividir los datos en conjunto de entrenamiento y prueba\n",
        "X_train, X_test, y_train, y_test = train_test_split(X, y, test_size=0.3, random_state=42)\n",
        "\n",
        "# Crear un modelo de regresión logística con regularización L1\n",
        "model_L1 = LogisticRegression(penalty='l1', solver='liblinear', C=0.1)\n",
        "\n",
        "# Entrenar el modelo\n",
        "model_L1.fit(X_train, y_train)\n",
        "\n",
        "# Predecir las etiquetas de la clase en el conjunto de prueba\n",
        "y_pred_L1 = model_L1.predict(X_test)\n",
        "\n",
        "# Calcular la exactitud del modelo\n",
        "accuracy_L1 = accuracy_score(y_test, y_pred_L1)\n",
        "\n",
        "# Crear un modelo de regresión logística con regularización L2\n",
        "model_L2 = LogisticRegression(penalty='l2', solver='liblinear', C=0.1)\n",
        "\n",
        "# Entrenar el modelo\n",
        "model_L2.fit(X_train, y_train)\n",
        "\n",
        "# Predecir las etiquetas de la clase en el conjunto de prueba\n",
        "y_pred_L2 = model_L2.predict(X_test)\n",
        "\n",
        "# Calcular la exactitud del modelo\n",
        "accuracy_L2 = accuracy_score(y_test, y_pred_L2)\n",
        "\n",
        "print('Exactitud con regularización L1:', accuracy_L1)\n",
        "print('Exactitud con regularización L2:', accuracy_L2)\n"
      ],
      "metadata": {
        "colab": {
          "base_uri": "https://localhost:8080/"
        },
        "id": "i-3mycVlvyBW",
        "outputId": "496096d8-b2ee-41f5-9523-38f50a8e044f"
      },
      "execution_count": 20,
      "outputs": [
        {
          "output_type": "stream",
          "name": "stdout",
          "text": [
            "Exactitud con regularización L1: 0.9629629629629629\n",
            "Exactitud con regularización L2: 1.0\n"
          ]
        }
      ]
    },
    {
      "cell_type": "code",
      "source": [
        "from sklearn.linear_model import LogisticRegression\n",
        "from sklearn.model_selection import train_test_split\n",
        "from sklearn.metrics import accuracy_score\n",
        "\n",
        "# Dividir los datos en conjunto de entrenamiento y prueba\n",
        "X_train, X_test, y_train, y_test = train_test_split(X, y, test_size=0.3, random_state=42)\n",
        "\n",
        "# Crear un modelo de regresión logística con regularización L1\n",
        "model_L1 = LogisticRegression(penalty='l1', solver='liblinear', C=0.1)\n",
        "\n",
        "# Entrenar el modelo\n",
        "model_L1.fit(X_train, y_train)\n",
        "\n",
        "# Predecir las etiquetas de la clase en el conjunto de prueba\n",
        "y_pred_L1 = model_L1.predict(X_test)\n",
        "\n",
        "# Calcular la exactitud del modelo\n",
        "accuracy_L1 = accuracy_score(y_test, y_pred_L1)\n",
        "\n",
        "# Crear un modelo de regresión logística con regularización L2\n",
        "model_L2 = LogisticRegression(penalty='l2', solver='liblinear', C=0.1)\n",
        "\n",
        "# Entrenar el modelo\n",
        "model_L2.fit(X_train, y_train)\n",
        "\n",
        "# Predecir las etiquetas de la clase en el conjunto de prueba\n",
        "y_pred_L2 = model_L2.predict(X_test)\n",
        "\n",
        "# Calcular la exactitud del modelo\n",
        "accuracy_L2 = accuracy_score(y_test, y_pred_L2)\n",
        "\n",
        "print('Exactitud con regularización L1:', accuracy_L1)\n",
        "print('Exactitud con regularización L2:', accuracy_L2)\n"
      ],
      "metadata": {
        "colab": {
          "base_uri": "https://localhost:8080/"
        },
        "id": "ldj2Of-iyizX",
        "outputId": "2790765d-c464-4c0f-b15f-c26ce2da635d"
      },
      "execution_count": 21,
      "outputs": [
        {
          "output_type": "stream",
          "name": "stdout",
          "text": [
            "Exactitud con regularización L1: 0.9629629629629629\n",
            "Exactitud con regularización L2: 1.0\n"
          ]
        }
      ]
    }
  ]
}